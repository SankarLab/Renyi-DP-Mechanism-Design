{
  "nbformat": 4,
  "nbformat_minor": 0,
  "metadata": {
    "colab": {
      "provenance": []
    },
    "kernelspec": {
      "name": "python3",
      "display_name": "Python 3"
    },
    "language_info": {
      "name": "python"
    }
  },
  "cells": [
    {
      "cell_type": "code",
      "source": [
        "import jax.numpy as jnp\n",
        "import pickle\n",
        "def load_vector(filename):\n",
        "    # Load the vector from the file\n",
        "    with open(filename, 'rb') as f:\n",
        "        loaded_vector = pickle.load(f)\n",
        "    return loaded_vector\n",
        "def get_noise_parameters_as_vector(loaded_parameters):\n",
        "    noise_parameters = loaded_parameters[\"noise_parameters\"]\n",
        "    if isinstance(noise_parameters, list):\n",
        "        noise_parameters = jnp.array(noise_parameters)\n",
        "    return noise_parameters\n",
        "# Example usage:\n",
        "filename = \"noise_k40_N1000_r0.99_cost1000.2372012565252_q8_beta2.pkl\"\n",
        "loaded_vector = load_vector(filename)\n",
        "print(\"Loaded vector:\", loaded_vector)\n",
        "noise_parameters_vector = get_noise_parameters_as_vector(loaded_vector)\n",
        "print(\"Noise parameters as vector:\", noise_parameters_vector)\n"
      ],
      "metadata": {
        "colab": {
          "base_uri": "https://localhost:8080/"
        },
        "id": "eZV4pp4gvNEo",
        "outputId": "11e38b58-bcef-4598-e75d-a3996371ad39"
      },
      "execution_count": 1,
      "outputs": [
        {
          "output_type": "stream",
          "name": "stdout",
          "text": [
            "Loaded vector: {'noise_parameters': Array([0.2897883 , 0.2889866 , 0.28891358, ..., 0.        , 0.        ,\n",
            "       0.        ], dtype=float32), 'Our_RD': '0.5648809225341193673842', 'Gaussian_RD': '0.5692087585060777721324'}\n",
            "Noise parameters as vector: [0.2897883  0.2889866  0.28891358 ... 0.         0.         0.        ]\n"
          ]
        }
      ]
    }
  ]
}